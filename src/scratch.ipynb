{
 "cells": [
  {
   "cell_type": "code",
   "execution_count": 44,
   "metadata": {},
   "outputs": [],
   "source": [
    "import numpy as np\n",
    "import matplotlib.pyplot as plt\n",
    "%matplotlib inline\n",
    "data = {\n",
    "  \"turn\": 14,\n",
    "  \"board\": {\n",
    "    \"height\": 11,\n",
    "    \"width\": 11,\n",
    "    \"food\": [\n",
    "      #{\"x\": 5, \"y\": 5}, \n",
    "      {\"x\": 9, \"y\": 0}, \n",
    "      {\"x\": 2, \"y\": 6}\n",
    "    ],\n",
    "    \"hazards\": [\n",
    "      {\"x\": 3, \"y\": 2}\n",
    "    ],\n",
    "    \"snakes\": [\n",
    "      {\n",
    "        \"id\": \"snake-508e96ac-94ad-11ea-bb37\",\n",
    "        \"name\": \"My Snake\",\n",
    "        \"health\": 54,\n",
    "        \"body\": [\n",
    "          {\"x\": 0, \"y\": 0}, \n",
    "          {\"x\": 1, \"y\": 0}, \n",
    "          {\"x\": 2, \"y\": 0}\n",
    "        ],\n",
    "        \"latency\": \"111\",\n",
    "        \"head\": {\"x\": 0, \"y\": 0},\n",
    "        \"length\": 3,\n",
    "        \"shout\": \"why are we shouting??\",\n",
    "        \"squad\": \"\",\n",
    "        \"customizations\":{\n",
    "          \"color\":\"#FF0000\",\n",
    "          \"head\":\"pixel\",\n",
    "          \"tail\":\"pixel\"\n",
    "        }\n",
    "      }, \n",
    "      {\n",
    "        \"id\": \"snake-b67f4906-94ae-11ea-bb37\",\n",
    "        \"name\": \"Another Snake\",\n",
    "        \"health\": 16,\n",
    "        \"body\": [\n",
    "          {\"x\": 5, \"y\": 4}, \n",
    "          {\"x\": 5, \"y\": 3}, \n",
    "          {\"x\": 6, \"y\": 3},\n",
    "          {\"x\": 6, \"y\": 2}\n",
    "        ],\n",
    "        \"latency\": \"222\",\n",
    "        \"head\": {\"x\": 5, \"y\": 4},\n",
    "        \"length\": 4,\n",
    "        \"shout\": \"I'm not really sure...\",\n",
    "        \"squad\": \"\",\n",
    "        \"customizations\":{\n",
    "          \"color\":\"#26CF04\",\n",
    "          \"head\":\"silly\",\n",
    "          \"tail\":\"curled\"\n",
    "        }\n",
    "      }\n",
    "    ]\n",
    "  },\n",
    "      \"you\": {\n",
    "      \"id\": \"snake-508e96ac-94ad-11ea-bb37\",\n",
    "        \"name\": \"My Snake\",\n",
    "        \"health\": 54,\n",
    "        \"body\": [\n",
    "        {\"x\": 0, \"y\": 0}, \n",
    "        {\"x\": 1, \"y\": 0}, \n",
    "        {\"x\": 2, \"y\": 0}\n",
    "        ],\n",
    "        \"latency\": \"111\",\n",
    "        \"head\": {\"x\": 0, \"y\": 0},\n",
    "        \"length\": 3,\n",
    "        \"shout\": \"why are we shouting??\",\n",
    "        \"squad\": \"\",\n",
    "        \"customizations\":{\n",
    "        \"color\":\"#FF0000\",\n",
    "        \"head\":\"pixel\",\n",
    "        \"tail\":\"pixel\"\n",
    "        }\n",
    "    }\n",
    "}"
   ]
  },
  {
   "cell_type": "code",
   "execution_count": 6,
   "metadata": {},
   "outputs": [],
   "source": [
    "food_weight = 5\n",
    "snake_weight = -9\n",
    "snake_head_weight = -2\n",
    "wall_weight = -9"
   ]
  },
  {
   "cell_type": "code",
   "execution_count": 4,
   "metadata": {},
   "outputs": [],
   "source": [
    "def gkern(l=10, scale=10):\n",
    "    \"\"\"\\\n",
    "    creates gaussian kernel with side length `l` and a sigma of `sig`\n",
    "    \"\"\"\n",
    "    sig = (l-1)/3\n",
    "    ax = np.linspace(-(l - 1) / 2., (l - 1) / 2., l)\n",
    "    gauss = np.exp(-0.5 * np.square(ax) / np.square(sig))\n",
    "    kernel = np.outer(gauss, gauss)\n",
    "    return scale * kernel / np.max(kernel)"
   ]
  },
  {
   "cell_type": "code",
   "execution_count": 3,
   "metadata": {},
   "outputs": [],
   "source": [
    "def centre_grad(data: dict) -> np.array:\n",
    "  board_w = data[\"board\"][\"width\"]\n",
    "  board_h = data[\"board\"][\"height\"]\n",
    "  gradient_board = gkern(max(board_w, board_h))\n",
    "\n",
    "  return gradient_board"
   ]
  },
  {
   "cell_type": "code",
   "execution_count": 51,
   "metadata": {},
   "outputs": [
    {
     "name": "stdout",
     "output_type": "stream",
     "text": [
      "food_x: 9, food_y: 0\n",
      "kernel_size: 11\n",
      "mid: 5\n",
      "pad_x: -4, pad_y: 5\n"
     ]
    },
    {
     "data": {
      "image/png": "[encoded data removed]",
      "text/plain": [
       "<Figure size 432x288 with 1 Axes>"
      ]
     },
     "metadata": {
      "needs_background": "light"
     },
     "output_type": "display_data"
    }
   ],
   "source": [
    "food = {\"x\": 9, \"y\": 0}\n",
    "food_x, food_y = food['x'], food['y']\n",
    "kern_size = max(11, 11)\n",
    "kernel = gkern(kern_size, food_weight)\n",
    "mid = kern_size // 2\n",
    "pad_x  = mid - food_x\n",
    "pad_y = mid - food_y\n",
    "pad_x_tmp = None\n",
    "pad_y_tmp = None\n",
    "\n",
    "print(f\"food_x: {food_x}, food_y: {food_y}\")\n",
    "print(f\"kernel_size: {kern_size}\")\n",
    "print(f\"mid: {mid}\")\n",
    "print(f\"pad_x: {pad_x}, pad_y: {pad_y}\")\n",
    "plt.imshow(kernel)\n",
    "plt.show()"
   ]
  },
  {
   "cell_type": "code",
   "execution_count": 52,
   "metadata": {},
   "outputs": [
    {
     "name": "stdout",
     "output_type": "stream",
     "text": [
      "9 0 ((4, 0), (0, 5))\n"
     ]
    }
   ],
   "source": [
    "if pad_x > 0: \n",
    "  pad_x_tmp = (0, pad_x)\n",
    "else: \n",
    "  pad_x_tmp = (-pad_x, 0)\n",
    "  \n",
    "if pad_y > 0: \n",
    "  pad_y_tmp = (0 , pad_y)\n",
    "else: \n",
    "  pad_y_tmp = (-pad_y, 0)\n",
    "\n",
    "pad = (pad_x_tmp, pad_y_tmp)\n",
    "print(food_x, food_y, pad)\n",
    "kernel = np.pad(kernel, pad, \"constant\", constant_values=0)\n"
   ]
  },
  {
   "cell_type": "code",
   "execution_count": 53,
   "metadata": {},
   "outputs": [],
   "source": [
    "if pad_x >= 0:\n",
    "  kernel = kernel[pad_x:,:]\n",
    "else:\n",
    "  kernel = kernel[0:pad_x,:]\n",
    "if pad_y >= 0:\n",
    "  kernel = kernel[:, pad_y:]\n",
    "else:\n",
    "  kernel = kernel[:, :pad_y]\n",
    "\n"
   ]
  },
  {
   "cell_type": "code",
   "execution_count": 54,
   "metadata": {},
   "outputs": [
    {
     "data": {
      "image/png": "[encoded data removed]",
      "text/plain": [
       "<Figure size 432x288 with 1 Axes>"
      ]
     },
     "metadata": {
      "needs_background": "light"
     },
     "output_type": "display_data"
    }
   ],
   "source": [
    "board = centre_grad(data)\n",
    "board_x, board_y = 11, 11\n",
    "board += kernel\n",
    "board = np.pad(board, 1, 'constant', constant_values=snake_weight)\n",
    "\n",
    "plt.imshow(np.rot90(np.fliplr(board)), interpolation='none', origin=\"lower\")\n",
    "plt.show()\n"
   ]
  }
 ],
 "metadata": {
  "interpreter": {
   "hash": "7f55de1f339f221d572e5e6670fe725c275f878e7abd2cbdebd339fa0af0012b"
  },
  "kernelspec": {
   "display_name": "Python 3.7.11 ('netscore')",
   "language": "python",
   "name": "python3"
  },
  "language_info": {
   "codemirror_mode": {
    "name": "ipython",
    "version": 3
   },
   "file_extension": ".py",
   "mimetype": "text/x-python",
   "name": "python",
   "nbconvert_exporter": "python",
   "pygments_lexer": "ipython3",
   "version": "3.7.11"
  },
  "orig_nbformat": 4
 },
 "nbformat": 4,
 "nbformat_minor": 2
}
